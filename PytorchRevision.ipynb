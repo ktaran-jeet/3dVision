{
  "nbformat": 4,
  "nbformat_minor": 0,
  "metadata": {
    "colab": {
      "provenance": [],
      "authorship_tag": "ABX9TyP1pcAQXYEdRKual7Rb1lqi",
      "include_colab_link": true
    },
    "kernelspec": {
      "name": "python3",
      "display_name": "Python 3"
    },
    "language_info": {
      "name": "python"
    }
  },
  "cells": [
    {
      "cell_type": "markdown",
      "metadata": {
        "id": "view-in-github",
        "colab_type": "text"
      },
      "source": [
        "<a href=\"https://colab.research.google.com/github/ktaran-jeet/3dVision/blob/DLNotes/PytorchRevision.ipynb\" target=\"_parent\"><img src=\"https://colab.research.google.com/assets/colab-badge.svg\" alt=\"Open In Colab\"/></a>"
      ]
    },
    {
      "cell_type": "code",
      "execution_count": null,
      "metadata": {
        "id": "NIW1z90nj1hM"
      },
      "outputs": [],
      "source": [
        "### A journey of thousand miles begins with a single step!\n",
        "### Let's dive into deep learning basics, every concept from scratch:"
      ]
    },
    {
      "cell_type": "code",
      "source": [
        "## 1.Tensors\n",
        "import torch\n",
        "print(torch.__version__)"
      ],
      "metadata": {
        "id": "91iVMYaIkAQy",
        "colab": {
          "base_uri": "https://localhost:8080/"
        },
        "outputId": "39b390a0-390b-4f7b-dc20-c96d4ce4232f"
      },
      "execution_count": 4,
      "outputs": [
        {
          "output_type": "stream",
          "name": "stdout",
          "text": [
            "2.5.0+cu121\n"
          ]
        }
      ]
    },
    {
      "cell_type": "code",
      "source": [
        "x = torch.tensor([[1,7,6],[4,1,2],[21,30,1]])\n",
        "x[2,0] = 42\n",
        "x\n",
        "x[-1,-1]"
      ],
      "metadata": {
        "colab": {
          "base_uri": "https://localhost:8080/"
        },
        "id": "PDf7Gc3QWbzC",
        "outputId": "577f4e49-c0fb-4614-e209-cfcb93b01b34"
      },
      "execution_count": 20,
      "outputs": [
        {
          "output_type": "execute_result",
          "data": {
            "text/plain": [
              "tensor(1)"
            ]
          },
          "metadata": {},
          "execution_count": 20
        }
      ]
    },
    {
      "cell_type": "code",
      "source": [
        "torch.zeros(3,4,2)"
      ],
      "metadata": {
        "colab": {
          "base_uri": "https://localhost:8080/"
        },
        "id": "E5-OssX6XZUp",
        "outputId": "eaaefca1-c7a5-4de1-f732-3bd5fe5fea9d"
      },
      "execution_count": 18,
      "outputs": [
        {
          "output_type": "execute_result",
          "data": {
            "text/plain": [
              "tensor([[[0., 0.],\n",
              "         [0., 0.],\n",
              "         [0., 0.],\n",
              "         [0., 0.]],\n",
              "\n",
              "        [[0., 0.],\n",
              "         [0., 0.],\n",
              "         [0., 0.],\n",
              "         [0., 0.]],\n",
              "\n",
              "        [[0., 0.],\n",
              "         [0., 0.],\n",
              "         [0., 0.],\n",
              "         [0., 0.]]])"
            ]
          },
          "metadata": {},
          "execution_count": 18
        }
      ]
    },
    {
      "cell_type": "code",
      "source": [
        "torch.ones(2,2)*4 + torch.ones(2,2) - torch.ones(2,2)"
      ],
      "metadata": {
        "colab": {
          "base_uri": "https://localhost:8080/"
        },
        "id": "-pFG7R_9X7fy",
        "outputId": "00b44e5c-835a-49c0-a276-a4b7539695e9"
      },
      "execution_count": 27,
      "outputs": [
        {
          "output_type": "execute_result",
          "data": {
            "text/plain": [
              "tensor([[4., 4.],\n",
              "        [4., 4.]])"
            ]
          },
          "metadata": {},
          "execution_count": 27
        }
      ]
    },
    {
      "cell_type": "code",
      "source": [
        "a = torch.ones(2,1)\n",
        "b = torch.ones(2,1)\n",
        "print(a)\n",
        "print(b)\n",
        "a+b"
      ],
      "metadata": {
        "colab": {
          "base_uri": "https://localhost:8080/"
        },
        "id": "9ImWzWMVYf-U",
        "outputId": "0e7711f7-c7c4-4110-8280-9f4934c363eb"
      },
      "execution_count": 33,
      "outputs": [
        {
          "output_type": "stream",
          "name": "stdout",
          "text": [
            "tensor([[1.],\n",
            "        [1.]])\n",
            "tensor([[1.],\n",
            "        [1.]])\n"
          ]
        },
        {
          "output_type": "execute_result",
          "data": {
            "text/plain": [
              "tensor([[2.],\n",
              "        [2.]])"
            ]
          },
          "metadata": {},
          "execution_count": 33
        }
      ]
    },
    {
      "cell_type": "code",
      "source": [
        "## returns a random number from a uniform distribution between [0,1], output tensor is of size specified.\n",
        "c = torch.rand(4)\n",
        "d = torch.rand(3,4)\n",
        "print(c)\n",
        "print(d)"
      ],
      "metadata": {
        "colab": {
          "base_uri": "https://localhost:8080/"
        },
        "id": "bhXORPLwY6Ki",
        "outputId": "251f0d2e-9a57-47a2-907e-a1d99805c986"
      },
      "execution_count": 45,
      "outputs": [
        {
          "output_type": "stream",
          "name": "stdout",
          "text": [
            "tensor([0.8815, 0.8912, 0.4836, 0.8303])\n",
            "tensor([[0.8607, 0.4509, 0.2435, 0.1983],\n",
            "        [0.3228, 0.2344, 0.0469, 0.8031],\n",
            "        [0.3709, 0.5479, 0.6521, 0.2630]])\n"
          ]
        }
      ]
    },
    {
      "cell_type": "code",
      "source": [
        "## .item() takes no argument and works on scalar and pulls out a python value, tensor of rank 0.\n",
        "q = torch.rand(1)\n",
        "print(q)\n",
        "p =q.item()\n",
        "print(p)\n",
        "print(type(p))"
      ],
      "metadata": {
        "colab": {
          "base_uri": "https://localhost:8080/"
        },
        "id": "FaTU9eovZySS",
        "outputId": "43725ab1-680e-4849-c3c2-27dbb1eca079"
      },
      "execution_count": 53,
      "outputs": [
        {
          "output_type": "stream",
          "name": "stdout",
          "text": [
            "tensor([0.4348])\n",
            "0.4347659945487976\n",
            "<class 'float'>\n"
          ]
        }
      ]
    },
    {
      "cell_type": "code",
      "source": [
        "print(q.device)\n",
        "print(q.type)"
      ],
      "metadata": {
        "colab": {
          "base_uri": "https://localhost:8080/"
        },
        "id": "vt6P_19BaRMO",
        "outputId": "f9018931-3519-44c1-828e-16083aeffbee"
      },
      "execution_count": 50,
      "outputs": [
        {
          "output_type": "stream",
          "name": "stdout",
          "text": [
            "cpu\n",
            "<built-in method type of Tensor object at 0x7a843d8c6ed0>\n"
          ]
        }
      ]
    },
    {
      "cell_type": "code",
      "source": [
        "## max() returns the maximum value in the tensor:\n",
        "## arr.max() or tensor.max(arr) ...\n",
        "arr = torch.rand(3,4)\n",
        "print(arr)\n",
        "m = arr.max()\n",
        "print(m)\n",
        "print(arr.max().item())"
      ],
      "metadata": {
        "colab": {
          "base_uri": "https://localhost:8080/"
        },
        "id": "VuIvbsCravuI",
        "outputId": "f4bcd656-4ef7-4f19-eba0-411ac4fc43ed"
      },
      "execution_count": 78,
      "outputs": [
        {
          "output_type": "stream",
          "name": "stdout",
          "text": [
            "tensor([[0.5746, 0.3610, 0.3693, 0.8721],\n",
            "        [0.5202, 0.9277, 0.1568, 0.2712],\n",
            "        [0.4933, 0.0907, 0.8101, 0.3391]])\n",
            "tensor(0.9277)\n",
            "0.9276611804962158\n"
          ]
        }
      ]
    },
    {
      "cell_type": "code",
      "source": [
        "#If a dimension is specified, it returns both the maximum values and their corresponding indices.\n",
        "## dim ranges depends on the dimensions of the tensor.\n",
        "#for tensor below, there are 2 dimesions only:\n",
        "#dim=0: Finds the maximum values along dimension 0 i.e you get a row as output, means comparing elements column wise\n",
        "#dim=1: Finds the maximum values along dimension 1 i.e you get a column as output, means comparing elements row wise\n",
        "#dim=-1 -> last dimension which is dim=1 and so on.\n",
        "x = torch.tensor([[11, 3, 5], [7, 2, 48]])\n",
        "print(x)\n",
        "max_values, max_indices = torch.max(x, dim=0)\n",
        "print(\"Max values:\", max_values)\n",
        "print(\"Max indices:\", max_indices)\n",
        "print(\"overall max\", x.max())"
      ],
      "metadata": {
        "colab": {
          "base_uri": "https://localhost:8080/"
        },
        "id": "oLgen6u6b3kQ",
        "outputId": "7e07568c-a049-46ce-8a9b-9171ff300a6b"
      },
      "execution_count": 77,
      "outputs": [
        {
          "output_type": "stream",
          "name": "stdout",
          "text": [
            "tensor([[11,  3,  5],\n",
            "        [ 7,  2, 48]])\n",
            "Max values: tensor([11,  3, 48])\n",
            "Max indices: tensor([0, 0, 1])\n",
            "overall max tensor(48)\n"
          ]
        }
      ]
    },
    {
      "cell_type": "code",
      "source": [
        "# argmax() returns only the indices of the maximum values along a specified dimension.\n",
        "z = torch.tensor([[11, 3, 5], [7, 2, 48]])\n",
        "print(z)\n",
        "indices = torch.argmax(z, dim=1)\n",
        "print(indices)\n",
        "print(z.argmax(dim=0))"
      ],
      "metadata": {
        "colab": {
          "base_uri": "https://localhost:8080/"
        },
        "id": "fYNHT8J2cjNp",
        "outputId": "c756c745-cdd5-4217-9d69-e9ac9dd4a0d5"
      },
      "execution_count": 72,
      "outputs": [
        {
          "output_type": "stream",
          "name": "stdout",
          "text": [
            "tensor([[11,  3,  5],\n",
            "        [ 7,  2, 48]])\n",
            "tensor([0, 2])\n",
            "tensor([0, 0, 1])\n"
          ]
        }
      ]
    },
    {
      "cell_type": "code",
      "source": [
        "#Datatypes of tensors:\n",
        "long_tens = torch.tensor([[11, 3, 5], [7, 2, 48]], dtype=torch.long)\n",
        "print(long_tens)\n",
        "print(long_tens.dtype)\n",
        "## change type of tensor:\n",
        "float_tens = long_tens.type(torch.float32)\n",
        "print(float_tens)\n",
        "print(float_tens.dtype)\n",
        "##using function .to()\n",
        "xxy = torch.tensor([[11, 3, 5], [7, 2, 48]]).to(dtype=torch.long)\n",
        "print(xxy.dtype)"
      ],
      "metadata": {
        "colab": {
          "base_uri": "https://localhost:8080/"
        },
        "id": "UFQCZxH0kKVo",
        "outputId": "3d897b51-e3ce-4049-fc63-6c295993c9c2"
      },
      "execution_count": 84,
      "outputs": [
        {
          "output_type": "stream",
          "name": "stdout",
          "text": [
            "tensor([[11,  3,  5],\n",
            "        [ 7,  2, 48]])\n",
            "torch.int64\n",
            "tensor([[11.,  3.,  5.],\n",
            "        [ 7.,  2., 48.]])\n",
            "torch.float32\n",
            "torch.int64\n"
          ]
        }
      ]
    },
    {
      "cell_type": "code",
      "source": [
        "## Most of the tensor operations that return a tensor create a new tensor. If you want to save memory and perform in-place opn then use the same fn name with appended _ like:\n",
        "ran_tens = torch.rand(2,2)\n",
        "z = ran_tens.log2()\n",
        "print(z)\n",
        "print(ran_tens)\n",
        "ran_tens.log2_()\n",
        "print(ran_tens)"
      ],
      "metadata": {
        "id": "62BNprDQmm_x",
        "outputId": "578c1d6e-aed4-42a9-dfce-b19006e4ad5f",
        "colab": {
          "base_uri": "https://localhost:8080/"
        }
      },
      "execution_count": 85,
      "outputs": [
        {
          "output_type": "stream",
          "name": "stdout",
          "text": [
            "tensor([[-0.8229, -0.6146],\n",
            "        [-1.1174, -0.4164]])\n",
            "tensor([[0.5653, 0.6531],\n",
            "        [0.4609, 0.7493]])\n",
            "tensor([[-0.8229, -0.6146],\n",
            "        [-1.1174, -0.4164]])\n"
          ]
        }
      ]
    },
    {
      "cell_type": "code",
      "source": [
        "## view() and reshape() both can be used to reshape the tensors to the desired shape: the no. of elements before and after must be same.\n",
        "##view() can throw errors if the required view is not contiguous;you have to call tensor.contiguous() before. In general, it's better to use reshape() as it does all of this behind the scenes.\n",
        "nmist = torch.rand(784)\n",
        "v = nmist.view(1,28,28)\n",
        "print(v.shape)\n",
        "rt = torch.reshape(nmist,(1,28,28))\n",
        "print(rt.shape)"
      ],
      "metadata": {
        "id": "YPNgpAnW33sA",
        "outputId": "ecad7d30-1369-4503-d8b8-fb101d6b448c",
        "colab": {
          "base_uri": "https://localhost:8080/"
        }
      },
      "execution_count": 89,
      "outputs": [
        {
          "output_type": "stream",
          "name": "stdout",
          "text": [
            "torch.Size([1, 28, 28])\n",
            "torch.Size([1, 28, 28])\n"
          ]
        }
      ]
    },
    {
      "cell_type": "code",
      "source": [
        "## permute(): To change the order of input eg. from h,w,channels to c,h,w\n",
        "hwc = torch.rand(640,480,3)\n",
        "chw = hwc.permute(2,0,1)\n",
        "print(chw.shape)"
      ],
      "metadata": {
        "id": "6tyQjf2S5uEq",
        "outputId": "12fd1bc7-f6b5-47fd-eea9-681d3200d53c",
        "colab": {
          "base_uri": "https://localhost:8080/"
        }
      },
      "execution_count": 91,
      "outputs": [
        {
          "output_type": "stream",
          "name": "stdout",
          "text": [
            "torch.Size([3, 640, 480])\n"
          ]
        }
      ]
    },
    {
      "cell_type": "code",
      "source": [
        "##Tensor broadcasting::Tensor broadcasting is a powerful mechanism in PyTorch and NumPy that allows you to perform element-wise operations on tensors with different shapes, as long as their dimensions are compatible.This is done without explicitly creating copies of the data, making it memory-efficient.\n",
        "#Rules for Broadcasting: Two dimensions are compatible if:\n",
        "#They are equal, or One of them is 1.\n",
        "a = torch.tensor([1,2,3])  #shape = (3,)\n",
        "b = torch.tensor([[4,5,6],[7,8,9]]) #shape = (2,3)\n",
        "#string from trailing dims, both has 3(equal) Since a has only one dimension, it is broadcasted along the first dimension to match the shape of b\n",
        "print(a)\n",
        "print(b)\n",
        "print(a+b)"
      ],
      "metadata": {
        "id": "o4mCQE3u6uFj",
        "outputId": "08c26849-11ab-46a4-a03b-ecc3c724e7e3",
        "colab": {
          "base_uri": "https://localhost:8080/"
        }
      },
      "execution_count": 92,
      "outputs": [
        {
          "output_type": "stream",
          "name": "stdout",
          "text": [
            "tensor([1, 2, 3])\n",
            "tensor([[4, 5, 6],\n",
            "        [7, 8, 9]])\n",
            "tensor([[ 5,  7,  9],\n",
            "        [ 8, 10, 12]])\n"
          ]
        }
      ]
    },
    {
      "cell_type": "code",
      "source": [
        "x = torch.tensor([1,2,3]) ## [1,2,3] is expanded to match y , [[1,2,3]]\n",
        "y = torch.tensor([[4]])\n",
        "print(x.shape)\n",
        "print(y.shape)\n",
        "print(x+y)\n",
        "print((x+y).shape)"
      ],
      "metadata": {
        "id": "7vpzuDNI_sC8",
        "outputId": "d6918419-cf21-4cd3-f926-d00ebbcd7d0d",
        "colab": {
          "base_uri": "https://localhost:8080/"
        }
      },
      "execution_count": 99,
      "outputs": [
        {
          "output_type": "stream",
          "name": "stdout",
          "text": [
            "torch.Size([3])\n",
            "torch.Size([1, 1])\n",
            "tensor([[5, 6, 7]])\n",
            "torch.Size([1, 3])\n"
          ]
        }
      ]
    },
    {
      "cell_type": "code",
      "source": [
        "x = torch.tensor([1,2,3]) ## [1,2,3] is expanded to match y , [[1,2,3], [1,2,3]] --> singleton dimension.\n",
        "y = torch.tensor([[4], [6]])\n",
        "print(x.shape)\n",
        "print(y.shape)\n",
        "print(x+y)\n",
        "print((x+y).shape)"
      ],
      "metadata": {
        "id": "HnYMt2CmCGru",
        "outputId": "70da1708-978f-4521-caf0-1d5da9363fff",
        "colab": {
          "base_uri": "https://localhost:8080/"
        }
      },
      "execution_count": 100,
      "outputs": [
        {
          "output_type": "stream",
          "name": "stdout",
          "text": [
            "torch.Size([3])\n",
            "torch.Size([2, 1])\n",
            "tensor([[5, 6, 7],\n",
            "        [7, 8, 9]])\n",
            "torch.Size([2, 3])\n"
          ]
        }
      ]
    },
    {
      "cell_type": "code",
      "source": [
        "x = torch.tensor([1,2,3])\n",
        "y = torch.tensor([[4]])\n",
        "z = torch.tensor([[4],[11],[0]])\n",
        "print(x.shape)\n",
        "print(y.shape)\n",
        "print(z.shape)\n",
        "print(\"-----------------\")\n",
        "print(x+y)\n",
        "print((x+y).shape)\n",
        "print(x+y+z)\n",
        "print((x+y+z).shape)"
      ],
      "metadata": {
        "id": "fAg7QSVfDLtz",
        "outputId": "ab2da00c-e2c8-4df1-ff24-863a55b1a068",
        "colab": {
          "base_uri": "https://localhost:8080/"
        }
      },
      "execution_count": 107,
      "outputs": [
        {
          "output_type": "stream",
          "name": "stdout",
          "text": [
            "torch.Size([3])\n",
            "torch.Size([1, 1])\n",
            "torch.Size([3, 1])\n",
            "-----------------\n",
            "tensor([[5, 6, 7]])\n",
            "torch.Size([1, 3])\n",
            "tensor([[ 9, 10, 11],\n",
            "        [16, 17, 18],\n",
            "        [ 5,  6,  7]])\n",
            "torch.Size([3, 3])\n"
          ]
        }
      ]
    }
  ]
}