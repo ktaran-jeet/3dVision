{
  "nbformat": 4,
  "nbformat_minor": 0,
  "metadata": {
    "colab": {
      "provenance": [],
      "authorship_tag": "ABX9TyMzSP55Ng1h31GM/jFyygdv",
      "include_colab_link": true
    },
    "kernelspec": {
      "name": "python3",
      "display_name": "Python 3"
    },
    "language_info": {
      "name": "python"
    }
  },
  "cells": [
    {
      "cell_type": "markdown",
      "metadata": {
        "id": "view-in-github",
        "colab_type": "text"
      },
      "source": [
        "<a href=\"https://colab.research.google.com/github/ktaran-jeet/3dVision/blob/DLNotes/PytorchRevision.ipynb\" target=\"_parent\"><img src=\"https://colab.research.google.com/assets/colab-badge.svg\" alt=\"Open In Colab\"/></a>"
      ]
    },
    {
      "cell_type": "code",
      "execution_count": null,
      "metadata": {
        "id": "NIW1z90nj1hM"
      },
      "outputs": [],
      "source": [
        "### A journey of thousand miles begins with a single step!\n",
        "### Let's dive into deep learning basics, every concept from scratch:"
      ]
    },
    {
      "cell_type": "code",
      "source": [
        "## 1.Tensors\n",
        "import torch\n",
        "print(torch.__version__)"
      ],
      "metadata": {
        "id": "91iVMYaIkAQy",
        "outputId": "39b390a0-390b-4f7b-dc20-c96d4ce4232f",
        "colab": {
          "base_uri": "https://localhost:8080/"
        }
      },
      "execution_count": 4,
      "outputs": [
        {
          "output_type": "stream",
          "name": "stdout",
          "text": [
            "2.5.0+cu121\n"
          ]
        }
      ]
    },
    {
      "cell_type": "code",
      "source": [
        "x = torch.tensor([[1,7,6],[4,1,2],[21,30,1]])\n",
        "x[2,0] = 42\n",
        "x\n",
        "x[-1,-1]"
      ],
      "metadata": {
        "id": "PDf7Gc3QWbzC",
        "outputId": "577f4e49-c0fb-4614-e209-cfcb93b01b34",
        "colab": {
          "base_uri": "https://localhost:8080/"
        }
      },
      "execution_count": 20,
      "outputs": [
        {
          "output_type": "execute_result",
          "data": {
            "text/plain": [
              "tensor(1)"
            ]
          },
          "metadata": {},
          "execution_count": 20
        }
      ]
    },
    {
      "cell_type": "code",
      "source": [
        "torch.zeros(3,4,2)"
      ],
      "metadata": {
        "id": "E5-OssX6XZUp",
        "outputId": "eaaefca1-c7a5-4de1-f732-3bd5fe5fea9d",
        "colab": {
          "base_uri": "https://localhost:8080/"
        }
      },
      "execution_count": 18,
      "outputs": [
        {
          "output_type": "execute_result",
          "data": {
            "text/plain": [
              "tensor([[[0., 0.],\n",
              "         [0., 0.],\n",
              "         [0., 0.],\n",
              "         [0., 0.]],\n",
              "\n",
              "        [[0., 0.],\n",
              "         [0., 0.],\n",
              "         [0., 0.],\n",
              "         [0., 0.]],\n",
              "\n",
              "        [[0., 0.],\n",
              "         [0., 0.],\n",
              "         [0., 0.],\n",
              "         [0., 0.]]])"
            ]
          },
          "metadata": {},
          "execution_count": 18
        }
      ]
    },
    {
      "cell_type": "code",
      "source": [
        "torch.ones(2,2)*4 + torch.ones(2,2) - torch.ones(2,2)"
      ],
      "metadata": {
        "id": "-pFG7R_9X7fy",
        "outputId": "00b44e5c-835a-49c0-a276-a4b7539695e9",
        "colab": {
          "base_uri": "https://localhost:8080/"
        }
      },
      "execution_count": 27,
      "outputs": [
        {
          "output_type": "execute_result",
          "data": {
            "text/plain": [
              "tensor([[4., 4.],\n",
              "        [4., 4.]])"
            ]
          },
          "metadata": {},
          "execution_count": 27
        }
      ]
    },
    {
      "cell_type": "code",
      "source": [
        "a = torch.ones(2,1)\n",
        "b = torch.ones(2,1)\n",
        "print(a)\n",
        "print(b)\n",
        "a+b"
      ],
      "metadata": {
        "id": "9ImWzWMVYf-U",
        "outputId": "0e7711f7-c7c4-4110-8280-9f4934c363eb",
        "colab": {
          "base_uri": "https://localhost:8080/"
        }
      },
      "execution_count": 33,
      "outputs": [
        {
          "output_type": "stream",
          "name": "stdout",
          "text": [
            "tensor([[1.],\n",
            "        [1.]])\n",
            "tensor([[1.],\n",
            "        [1.]])\n"
          ]
        },
        {
          "output_type": "execute_result",
          "data": {
            "text/plain": [
              "tensor([[2.],\n",
              "        [2.]])"
            ]
          },
          "metadata": {},
          "execution_count": 33
        }
      ]
    },
    {
      "cell_type": "code",
      "source": [
        "## returns a random number from a uniform distribution between [0,1], output tensor is of size specified.\n",
        "c = torch.rand(4)\n",
        "d = torch.rand(3,4)\n",
        "print(c)\n",
        "print(d)"
      ],
      "metadata": {
        "id": "bhXORPLwY6Ki",
        "outputId": "251f0d2e-9a57-47a2-907e-a1d99805c986",
        "colab": {
          "base_uri": "https://localhost:8080/"
        }
      },
      "execution_count": 45,
      "outputs": [
        {
          "output_type": "stream",
          "name": "stdout",
          "text": [
            "tensor([0.8815, 0.8912, 0.4836, 0.8303])\n",
            "tensor([[0.8607, 0.4509, 0.2435, 0.1983],\n",
            "        [0.3228, 0.2344, 0.0469, 0.8031],\n",
            "        [0.3709, 0.5479, 0.6521, 0.2630]])\n"
          ]
        }
      ]
    },
    {
      "cell_type": "code",
      "source": [
        "## .item() takes no argument and works on scalar and pulls out a python value, tensor of rank 0.\n",
        "q = torch.rand(1)\n",
        "print(q)\n",
        "p =q.item()\n",
        "print(p)\n",
        "print(type(p))"
      ],
      "metadata": {
        "id": "FaTU9eovZySS",
        "outputId": "43725ab1-680e-4849-c3c2-27dbb1eca079",
        "colab": {
          "base_uri": "https://localhost:8080/"
        }
      },
      "execution_count": 53,
      "outputs": [
        {
          "output_type": "stream",
          "name": "stdout",
          "text": [
            "tensor([0.4348])\n",
            "0.4347659945487976\n",
            "<class 'float'>\n"
          ]
        }
      ]
    },
    {
      "cell_type": "code",
      "source": [
        "print(q.device)\n",
        "print(q.type)"
      ],
      "metadata": {
        "id": "vt6P_19BaRMO",
        "outputId": "f9018931-3519-44c1-828e-16083aeffbee",
        "colab": {
          "base_uri": "https://localhost:8080/"
        }
      },
      "execution_count": 50,
      "outputs": [
        {
          "output_type": "stream",
          "name": "stdout",
          "text": [
            "cpu\n",
            "<built-in method type of Tensor object at 0x7a843d8c6ed0>\n"
          ]
        }
      ]
    },
    {
      "cell_type": "code",
      "source": [
        "arr = torch.rand(3,4)\n",
        "print(arr)\n",
        "m = arr.max()\n",
        "print(m)\n",
        "print(arr.max().item())\n",
        "indices = arr.argmax()\n",
        "print(indices)"
      ],
      "metadata": {
        "id": "VuIvbsCravuI",
        "outputId": "379e7916-b0f9-4a84-f0db-d2bd703b2f6e",
        "colab": {
          "base_uri": "https://localhost:8080/"
        }
      },
      "execution_count": 59,
      "outputs": [
        {
          "output_type": "stream",
          "name": "stdout",
          "text": [
            "tensor([[0.9511, 0.6751, 0.4007, 0.5760],\n",
            "        [0.0142, 0.5410, 0.0067, 0.9421],\n",
            "        [0.7706, 0.1981, 0.0411, 0.6398]])\n",
            "tensor(0.9511)\n",
            "0.9511238932609558\n",
            "tensor(0)\n"
          ]
        }
      ]
    },
    {
      "cell_type": "code",
      "source": [
        "#If a dimension is specified, it returns both the maximum values and their corresponding indices.\n",
        "## dim ranges depends on the dimensions of the tensor.\n",
        "#for tensor below, there are 2 dimesions only:\n",
        "#dim=0: Finds the maximum values along dimension 0 i.e you get a row as output, means comparing elements column wise\n",
        "#dim=1: Finds the maximum values along dimension 1 i.e you get a column as output, means comparing elements row wise\n",
        "#dim=-1 -> last dimension which is dim=1 and so on.\n",
        "x = torch.tensor([[11, 3, 5], [7, 2, 48]])\n",
        "print(x)\n",
        "max_values, max_indices = torch.max(x, dim=0)\n",
        "print(\"Max values:\", max_values)\n",
        "print(\"Max indices:\", max_indices)\n",
        "print(\"overall max\", x.max())"
      ],
      "metadata": {
        "id": "oLgen6u6b3kQ",
        "outputId": "7e07568c-a049-46ce-8a9b-9171ff300a6b",
        "colab": {
          "base_uri": "https://localhost:8080/"
        }
      },
      "execution_count": 77,
      "outputs": [
        {
          "output_type": "stream",
          "name": "stdout",
          "text": [
            "tensor([[11,  3,  5],\n",
            "        [ 7,  2, 48]])\n",
            "Max values: tensor([11,  3, 48])\n",
            "Max indices: tensor([0, 0, 1])\n",
            "overall max tensor(48)\n"
          ]
        }
      ]
    },
    {
      "cell_type": "code",
      "source": [
        "# argmax() returns only the indices of the maximum values along a specified dimension.\n",
        "z = torch.tensor([[11, 3, 5], [7, 2, 48]])\n",
        "print(z)\n",
        "indices = torch.argmax(z, dim=1)\n",
        "print(indices)\n",
        "print(z.argmax(dim=0))"
      ],
      "metadata": {
        "id": "fYNHT8J2cjNp",
        "outputId": "c756c745-cdd5-4217-9d69-e9ac9dd4a0d5",
        "colab": {
          "base_uri": "https://localhost:8080/"
        }
      },
      "execution_count": 72,
      "outputs": [
        {
          "output_type": "stream",
          "name": "stdout",
          "text": [
            "tensor([[11,  3,  5],\n",
            "        [ 7,  2, 48]])\n",
            "tensor([0, 2])\n",
            "tensor([0, 0, 1])\n"
          ]
        }
      ]
    },
    {
      "cell_type": "code",
      "source": [
        "#Datatypes of tensors:\n"
      ],
      "metadata": {
        "id": "UFQCZxH0kKVo"
      },
      "execution_count": null,
      "outputs": []
    }
  ]
}