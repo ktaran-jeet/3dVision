{
  "nbformat": 4,
  "nbformat_minor": 0,
  "metadata": {
    "colab": {
      "provenance": [],
      "authorship_tag": "ABX9TyMUVVHCkE6KXIFRNss+J/kk",
      "include_colab_link": true
    },
    "kernelspec": {
      "name": "python3",
      "display_name": "Python 3"
    },
    "language_info": {
      "name": "python"
    }
  },
  "cells": [
    {
      "cell_type": "markdown",
      "metadata": {
        "id": "view-in-github",
        "colab_type": "text"
      },
      "source": [
        "<a href=\"https://colab.research.google.com/github/ktaran-jeet/3dVision/blob/DLNotes/Linear.ipynb\" target=\"_parent\"><img src=\"https://colab.research.google.com/assets/colab-badge.svg\" alt=\"Open In Colab\"/></a>"
      ]
    },
    {
      "cell_type": "code",
      "execution_count": 2,
      "metadata": {
        "id": "vrm5R6LbSBid"
      },
      "outputs": [],
      "source": [
        "##Linear module:\n",
        "import torch\n",
        "import torch.nn as nn"
      ]
    },
    {
      "cell_type": "code",
      "source": [
        "#In the context of neural networks, a linear layer (also known as a fully connected layer or dense layer) applies a linear transformation to its input. This transformation is defined by the equation: y = x * W^T + b\n",
        "module = nn.Linear(5,3)\n",
        "print(module)"
      ],
      "metadata": {
        "colab": {
          "base_uri": "https://localhost:8080/"
        },
        "id": "uJv0wHN7Xp5a",
        "outputId": "bfca2bd0-8fc1-4a82-b14c-33e6233c86c8"
      },
      "execution_count": 3,
      "outputs": [
        {
          "output_type": "stream",
          "name": "stdout",
          "text": [
            "Linear(in_features=5, out_features=3, bias=True)\n"
          ]
        }
      ]
    },
    {
      "cell_type": "code",
      "source": [
        "ip = torch.rand(5)\n",
        "print(ip)"
      ],
      "metadata": {
        "colab": {
          "base_uri": "https://localhost:8080/"
        },
        "id": "RCmhC4o5X-y7",
        "outputId": "6023501a-a196-4765-f74b-28fd3294102b"
      },
      "execution_count": 4,
      "outputs": [
        {
          "output_type": "stream",
          "name": "stdout",
          "text": [
            "tensor([0.5478, 0.0385, 0.7758, 0.4499, 0.9995])\n"
          ]
        }
      ]
    },
    {
      "cell_type": "code",
      "source": [
        "y = module(ip)\n",
        "print(y)"
      ],
      "metadata": {
        "colab": {
          "base_uri": "https://localhost:8080/"
        },
        "id": "qepH4vWvYEFJ",
        "outputId": "fa2924d9-9ab6-42db-da15-2789afa3682a"
      },
      "execution_count": 5,
      "outputs": [
        {
          "output_type": "stream",
          "name": "stdout",
          "text": [
            "tensor([-0.3043, -0.3537, -0.3266], grad_fn=<ViewBackward0>)\n"
          ]
        }
      ]
    },
    {
      "cell_type": "code",
      "source": [
        "print(module.weight)\n",
        "print(module.weight.size())"
      ],
      "metadata": {
        "colab": {
          "base_uri": "https://localhost:8080/"
        },
        "id": "riEk5vYpYHcL",
        "outputId": "134b5da3-6c4b-45fb-fb46-552b77a6d3f1"
      },
      "execution_count": 6,
      "outputs": [
        {
          "output_type": "stream",
          "name": "stdout",
          "text": [
            "Parameter containing:\n",
            "tensor([[-0.0118,  0.3327, -0.2300, -0.3586, -0.0776],\n",
            "        [ 0.0556,  0.0843, -0.2661, -0.2053, -0.1646],\n",
            "        [-0.3621, -0.2757,  0.0608,  0.0439, -0.3471]], requires_grad=True)\n",
            "torch.Size([3, 5])\n"
          ]
        }
      ]
    },
    {
      "cell_type": "code",
      "source": [
        "print(module.bias)\n",
        "print(module.bias.size())"
      ],
      "metadata": {
        "colab": {
          "base_uri": "https://localhost:8080/"
        },
        "id": "BKb9XxdkYiYa",
        "outputId": "bcedee17-e9f2-487e-8c32-aaf217220621"
      },
      "execution_count": 7,
      "outputs": [
        {
          "output_type": "stream",
          "name": "stdout",
          "text": [
            "Parameter containing:\n",
            "tensor([0.1067, 0.0759, 0.1624], requires_grad=True)\n",
            "torch.Size([3])\n"
          ]
        }
      ]
    },
    {
      "cell_type": "code",
      "source": [
        "##The primary purpose of using with torch.no_grad(): is to temporarily disable gradient calculations within the code block it encloses.\n",
        "## during inference, evaluation or durring manipulating model params directly.\n",
        "with torch.no_grad():\n",
        "  module.weight[0,0] = 0\n",
        "  module.weight[2,0] = 0\n",
        "  module.bias[0] = 0\n",
        "  print(module.weight)\n",
        "  print(module.bias)"
      ],
      "metadata": {
        "colab": {
          "base_uri": "https://localhost:8080/"
        },
        "id": "pn4HQBheYqdC",
        "outputId": "852f649c-909d-4c20-955d-c9d00f42a3ad"
      },
      "execution_count": 9,
      "outputs": [
        {
          "output_type": "stream",
          "name": "stdout",
          "text": [
            "Parameter containing:\n",
            "tensor([[ 0.0000,  0.3327, -0.2300, -0.3586, -0.0776],\n",
            "        [ 0.0556,  0.0843, -0.2661, -0.2053, -0.1646],\n",
            "        [ 0.0000, -0.2757,  0.0608,  0.0439, -0.3471]], requires_grad=True)\n",
            "Parameter containing:\n",
            "tensor([0.0000, 0.0759, 0.1624], requires_grad=True)\n"
          ]
        }
      ]
    },
    {
      "cell_type": "code",
      "source": [
        "## A linear module without bias:\n",
        "mod = nn.Linear(5,3,bias=False)\n",
        "print(mod)"
      ],
      "metadata": {
        "colab": {
          "base_uri": "https://localhost:8080/"
        },
        "id": "2VVXU0L4aX7D",
        "outputId": "75ce0e6b-38ca-4e5c-92a2-556a56cde2bb"
      },
      "execution_count": 10,
      "outputs": [
        {
          "output_type": "stream",
          "name": "stdout",
          "text": [
            "Linear(in_features=5, out_features=3, bias=False)\n"
          ]
        }
      ]
    },
    {
      "cell_type": "code",
      "source": [
        "print(mod.weight)\n",
        "print(mod.bias)"
      ],
      "metadata": {
        "colab": {
          "base_uri": "https://localhost:8080/"
        },
        "id": "8t_r2ea2a2dG",
        "outputId": "357ea4b5-971c-4125-b4c6-ad4e7244db80"
      },
      "execution_count": 11,
      "outputs": [
        {
          "output_type": "stream",
          "name": "stdout",
          "text": [
            "Parameter containing:\n",
            "tensor([[-0.2350,  0.3146,  0.1782,  0.2786, -0.3635],\n",
            "        [-0.2029, -0.1665, -0.1583, -0.2693,  0.3832],\n",
            "        [-0.1886,  0.2933,  0.1280, -0.0670, -0.0914]], requires_grad=True)\n",
            "None\n"
          ]
        }
      ]
    }
  ]
}