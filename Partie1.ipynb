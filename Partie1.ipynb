{
  "nbformat": 4,
  "nbformat_minor": 0,
  "metadata": {
    "colab": {
      "provenance": [],
      "authorship_tag": "ABX9TyOf385RpS+/BAf/xoHgClPP",
      "include_colab_link": true
    },
    "kernelspec": {
      "name": "python3",
      "display_name": "Python 3"
    },
    "language_info": {
      "name": "python"
    }
  },
  "cells": [
    {
      "cell_type": "markdown",
      "metadata": {
        "id": "view-in-github",
        "colab_type": "text"
      },
      "source": [
        "<a href=\"https://colab.research.google.com/github/ktaran-jeet/3dVision/blob/main/Partie1.ipynb\" target=\"_parent\"><img src=\"https://colab.research.google.com/assets/colab-badge.svg\" alt=\"Open In Colab\"/></a>"
      ]
    },
    {
      "cell_type": "code",
      "execution_count": 1,
      "metadata": {
        "id": "NIW1z90nj1hM"
      },
      "outputs": [],
      "source": [
        "### A journey of thousand miles begins with a single step!\n",
        "### Let's dive into deep learning basics, every concept from scratch:\n",
        "### 1. Perceptron:"
      ]
    },
    {
      "cell_type": "code",
      "source": [],
      "metadata": {
        "id": "91iVMYaIkAQy"
      },
      "execution_count": 1,
      "outputs": []
    }
  ]
}